{
  "nbformat": 4,
  "nbformat_minor": 0,
  "metadata": {
    "colab": {
      "provenance": [],
      "collapsed_sections": []
    },
    "kernelspec": {
      "name": "python3",
      "display_name": "Python 3"
    },
    "language_info": {
      "name": "python"
    }
  },
  "cells": [
    {
      "cell_type": "markdown",
      "source": [
        "# Preprocessing"
      ],
      "metadata": {
        "id": "ays5EwiMg2hf"
      }
    },
    {
      "cell_type": "code",
      "execution_count": null,
      "metadata": {
        "id": "kk9ZwWvOviWT"
      },
      "outputs": [],
      "source": [
        "# from pathlib import Path\n",
        "# import csv\n",
        "import os\n",
        "import cv2 as cv\n",
        "import numpy as np\n",
        "import pandas as pd\n",
        "import matplotlib.pyplot as plt\n",
        "### datalearning\n",
        "# Import Label Encoder and train_test_split\n",
        "from sklearn.preprocessing import LabelEncoder\n",
        "from sklearn.model_selection import train_test_split\n"
      ]
    },
    {
      "cell_type": "code",
      "source": [
        "num = 0\n",
        "imageClass = ['Air Conditioner', 'Car Horn', 'Children Playing', 'Dog Bark', 'Drilling', 'Engine Idling', 'Gun Shot', 'Jackhammer', 'Siren', 'Street Music']\n",
        "classList = []\n",
        "imageList = []\n",
        "data = np.array([], dtype=int)\n",
        "while num != 10:\n",
        "  # print(num)\n",
        "  fileNames = []\n",
        "  paths = f'/content/drive/MyDrive/spectrograms/{num}/'\n",
        "  #### Gizli dosyalari sil\n",
        "  # data_file = f'{path1}/.DS_Store'\n",
        "  # Use exception handling\n",
        "  # try:\n",
        "  #     os.remove(data_file)\n",
        "  # except OSError as e:\n",
        "  #     print(f'Error: {data_file} : {e.strerror}')\n",
        "  #### klasor icindeki tum dosya isimlerini entries listesine atiyor\n",
        "  with os.scandir(paths) as entries:\n",
        "    for entry in entries:\n",
        "      #### gizli dosyalari listelemesini engelle\n",
        "      if not entry.name.startswith('.'):\n",
        "        fileNames.append(entry.name)\n",
        "  # print(f\"Total image count in Directory {num} is {len(fileNames)}!\\n\")\n",
        "  ## Dosya isimlerini iterate icin\n",
        "  fileCount = 0\n",
        "  for files in fileNames:\n",
        "    filename = f'/content/drive/MyDrive/spectrograms/{num}/{files}'\n",
        "    #### openCV grayscale conversion method\n",
        "    imsize = 32\n",
        "    greyImg = cv.imread(filename, cv.IMREAD_GRAYSCALE)\n",
        "    greyImg = cv.resize(greyImg, (imsize, imsize))\n",
        "    greyImg = greyImg/255.0\n",
        "    # print(greyImg)\n",
        "    #### Append 2D Grayscale image nd.arrays into the imageList\n",
        "    imageList.append(greyImg)\n",
        "    classList.append(imageClass[num])\n",
        "    fileCount += 1\n",
        "  print(f\"Process in Grayscale{num} folder has completed!\\n\\n Total converted file count is: {fileCount}\\n Image List Length is: {len(imageList)}\\n\")\n",
        "  num += 1\n",
        "X = imageList\n",
        "y = classList\n",
        "X = np.array(X).reshape(-1, imsize, imsize, 1)\n",
        "y = np.array(y)\n",
        "print(f\"Image Conversion Process Totally Completed!\\n Total row count had been written: {len(imageList)}\")\n",
        "## Store dataframe as excel file\n",
        "# df.to_excel(\"/content/data.xlsx\")"
      ],
      "metadata": {
        "id": "pJIBZ5fKBr02",
        "colab": {
          "base_uri": "https://localhost:8080/"
        },
        "outputId": "61071c75-e391-43b4-8025-45976f04146d"
      },
      "execution_count": null,
      "outputs": [
        {
          "output_type": "stream",
          "name": "stdout",
          "text": [
            "Process in Grayscale0 folder has completed!\n",
            "\n",
            " Total converted file count is: 1000\n",
            " Image List Length is: 1000\n",
            "\n",
            "Process in Grayscale1 folder has completed!\n",
            "\n",
            " Total converted file count is: 429\n",
            " Image List Length is: 1429\n",
            "\n",
            "Process in Grayscale2 folder has completed!\n",
            "\n",
            " Total converted file count is: 1000\n",
            " Image List Length is: 2429\n",
            "\n",
            "Process in Grayscale3 folder has completed!\n",
            "\n",
            " Total converted file count is: 1000\n",
            " Image List Length is: 3429\n",
            "\n",
            "Process in Grayscale4 folder has completed!\n",
            "\n",
            " Total converted file count is: 1000\n",
            " Image List Length is: 4429\n",
            "\n",
            "Process in Grayscale5 folder has completed!\n",
            "\n",
            " Total converted file count is: 1000\n",
            " Image List Length is: 5429\n",
            "\n",
            "Process in Grayscale6 folder has completed!\n",
            "\n",
            " Total converted file count is: 374\n",
            " Image List Length is: 5803\n",
            "\n",
            "Process in Grayscale7 folder has completed!\n",
            "\n",
            " Total converted file count is: 1000\n",
            " Image List Length is: 6803\n",
            "\n",
            "Process in Grayscale8 folder has completed!\n",
            "\n",
            " Total converted file count is: 929\n",
            " Image List Length is: 7732\n",
            "\n",
            "Process in Grayscale9 folder has completed!\n",
            "\n",
            " Total converted file count is: 1000\n",
            " Image List Length is: 8732\n",
            "\n",
            "Image Conversion Process Totally Completed!\n",
            " Total row count had been written: 0\n"
          ]
        }
      ]
    },
    {
      "cell_type": "code",
      "source": [
        "print(len(X))\n",
        "print(len(y))"
      ],
      "metadata": {
        "id": "hojwJ3_aiMJy",
        "colab": {
          "base_uri": "https://localhost:8080/"
        },
        "outputId": "605f3887-3d2f-4cda-f342-e429fe7b5e5e"
      },
      "execution_count": null,
      "outputs": [
        {
          "output_type": "stream",
          "name": "stdout",
          "text": [
            "8732\n",
            "8732\n"
          ]
        }
      ]
    },
    {
      "cell_type": "code",
      "source": [
        "encoder = LabelEncoder()\n",
        "y = encoder.fit_transform(y)\n",
        "np.unique(y)"
      ],
      "metadata": {
        "id": "Zrm_GqHcoBCn",
        "colab": {
          "base_uri": "https://localhost:8080/"
        },
        "outputId": "b55a4aaa-e7b0-44b5-b093-b411ada383cf"
      },
      "execution_count": null,
      "outputs": [
        {
          "output_type": "execute_result",
          "data": {
            "text/plain": [
              "array([0, 1, 2, 3, 4, 5, 6, 7, 8, 9])"
            ]
          },
          "metadata": {},
          "execution_count": 39
        }
      ]
    },
    {
      "cell_type": "code",
      "source": [
        "X_train, X_temporary, y_train, y_temporary = train_test_split(X, y, train_size=0.8)\n",
        "\n",
        "X_val, X_test, y_val, y_test = train_test_split(X_temporary, y_temporary, train_size=0.5)\n",
        "\n",
        "print(f\"Length of the dataset: {len(X)}\")\n",
        "print(f\"Length of the training dataset: {len(X_train)}\")\n",
        "print(f\"Length of the validation dataset: {len(X_val)}\")\n",
        "print(f\"Length of the test dataset: {len(X_test)}\")\n",
        "\n",
        "np.save(\"/content/drive/MyDrive/TrainData/X_train.npy\", X_train)\n",
        "np.save(\"/content/drive/MyDrive/TrainData/y_train.npy\", y_train)\n",
        "np.save(\"/content/drive/MyDrive/TrainData/X_val.npy\", X_val)\n",
        "np.save(\"/content/drive/MyDrive/TrainData/y_val.npy\", y_val)\n",
        "np.save(\"/content/drive/MyDrive/TrainData/X_test.npy\", X_test)\n",
        "np.save(\"/content/drive/MyDrive/TrainData/y_test.npy\", y_test)"
      ],
      "metadata": {
        "colab": {
          "base_uri": "https://localhost:8080/"
        },
        "id": "JrxLTE_ecQTA",
        "outputId": "6c9170f2-01b0-42e8-b1db-66c28b4e7e3e"
      },
      "execution_count": null,
      "outputs": [
        {
          "output_type": "stream",
          "name": "stdout",
          "text": [
            "Length of the dataset: 8732\n",
            "Length of the training dataset: 6985\n",
            "Length of the validation dataset: 873\n",
            "Length of the test dataset: 874\n"
          ]
        }
      ]
    }
  ]
}