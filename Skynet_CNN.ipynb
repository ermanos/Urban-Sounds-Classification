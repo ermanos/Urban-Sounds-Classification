{
  "nbformat": 4,
  "nbformat_minor": 0,
  "metadata": {
    "colab": {
      "provenance": [],
      "collapsed_sections": []
    },
    "kernelspec": {
      "name": "python3",
      "display_name": "Python 3"
    },
    "language_info": {
      "name": "python"
    }
  },
  "cells": [
    {
      "cell_type": "code",
      "source": [
        "# Import TensorFlow, Numpy and Matplotlib\n",
        "import tensorflow as tf\n",
        "import numpy as np\n",
        "import matplotlib.pyplot as plt"
      ],
      "metadata": {
        "id": "g7wtW7wd1fq-"
      },
      "execution_count": 140,
      "outputs": []
    },
    {
      "cell_type": "code",
      "source": [
        "X_test = np.load('/content/X_test.npy')\n",
        "X_train = np.load('/content/X_train.npy')\n",
        "X_val = np.load('/content/X_val.npy')\n",
        "y_test = np.load('/content/y_test.npy')\n",
        "y_train = np.load('/content/y_train.npy')\n",
        "y_val = np.load('/content/y_val.npy')"
      ],
      "metadata": {
        "id": "rmIXRJpw2m6V"
      },
      "execution_count": 141,
      "outputs": []
    },
    {
      "cell_type": "code",
      "source": [
        "print(f\"Length of the X training dataset: {len(X_train)}\")\n",
        "print(f\"Length of the X validation dataset: {len(X_val)}\")\n",
        "print(f\"Length of the X test dataset: {len(X_test)}\")\n",
        "print(f\"Length of the Y training dataset: {len(y_train)}\")\n",
        "print(f\"Length of the Y validation dataset: {len(y_val)}\")\n",
        "print(f\"Length of the Y test dataset: {len(y_test)}\")\n"
      ],
      "metadata": {
        "colab": {
          "base_uri": "https://localhost:8080/"
        },
        "id": "Pw3EvY7l1N-r",
        "outputId": "3e043d0d-e496-44eb-ad07-798c3ab7361e"
      },
      "execution_count": 142,
      "outputs": [
        {
          "output_type": "stream",
          "name": "stdout",
          "text": [
            "Length of the X training dataset: 6985\n",
            "Length of the X validation dataset: 873\n",
            "Length of the X test dataset: 874\n",
            "Length of the Y training dataset: 6985\n",
            "Length of the Y validation dataset: 873\n",
            "Length of the Y test dataset: 874\n"
          ]
        }
      ]
    },
    {
      "cell_type": "code",
      "source": [
        "X_train.shape"
      ],
      "metadata": {
        "colab": {
          "base_uri": "https://localhost:8080/"
        },
        "id": "deyVzOCfAbmV",
        "outputId": "f381ed67-f600-406b-af3c-119ece6b4b8c"
      },
      "execution_count": 143,
      "outputs": [
        {
          "output_type": "execute_result",
          "data": {
            "text/plain": [
              "(6985, 32, 32, 1)"
            ]
          },
          "metadata": {},
          "execution_count": 143
        }
      ]
    },
    {
      "cell_type": "code",
      "source": [
        "X_test[456]"
      ],
      "metadata": {
        "colab": {
          "base_uri": "https://localhost:8080/"
        },
        "id": "cbMOS0qCS2b-",
        "outputId": "91cfa5f0-ea9a-4b5c-a411-4ae16c30d387"
      },
      "execution_count": 144,
      "outputs": [
        {
          "output_type": "execute_result",
          "data": {
            "text/plain": [
              "array([[[0.        ],\n",
              "        [0.        ],\n",
              "        [0.        ],\n",
              "        ...,\n",
              "        [0.        ],\n",
              "        [0.        ],\n",
              "        [0.        ]],\n",
              "\n",
              "       [[0.        ],\n",
              "        [0.        ],\n",
              "        [0.        ],\n",
              "        ...,\n",
              "        [0.        ],\n",
              "        [0.00392157],\n",
              "        [0.        ]],\n",
              "\n",
              "       [[0.        ],\n",
              "        [0.        ],\n",
              "        [0.        ],\n",
              "        ...,\n",
              "        [0.00392157],\n",
              "        [0.02745098],\n",
              "        [0.        ]],\n",
              "\n",
              "       ...,\n",
              "\n",
              "       [[0.52941176],\n",
              "        [0.49019608],\n",
              "        [0.55294118],\n",
              "        ...,\n",
              "        [0.70980392],\n",
              "        [0.55294118],\n",
              "        [0.60392157]],\n",
              "\n",
              "       [[0.34117647],\n",
              "        [0.64705882],\n",
              "        [0.55294118],\n",
              "        ...,\n",
              "        [0.92941176],\n",
              "        [0.68235294],\n",
              "        [0.48235294]],\n",
              "\n",
              "       [[0.21568627],\n",
              "        [0.30196078],\n",
              "        [0.47058824],\n",
              "        ...,\n",
              "        [0.64705882],\n",
              "        [0.69803922],\n",
              "        [0.65098039]]])"
            ]
          },
          "metadata": {},
          "execution_count": 144
        }
      ]
    },
    {
      "cell_type": "code",
      "source": [
        "model = tf.keras.Sequential()"
      ],
      "metadata": {
        "id": "OmwHsu0N6JU-"
      },
      "execution_count": 145,
      "outputs": []
    },
    {
      "cell_type": "code",
      "source": [
        "# Add a convolution and max pooling layer\n",
        "#### activation func are hyper-parameters so we have to figure out best by try and error\n",
        "#### activation functions \"10age\", \"rickyRelu\", \"elu\"\n",
        "model.add(tf.keras.layers.Conv2D(32, \n",
        "                                 kernel_size=(3,3),\n",
        "                                 strides=(1,1),\n",
        "                                 padding='same',\n",
        "                                 activation='relu',\n",
        "                                 input_shape=(32, 32, 1)))\n",
        "model.add(tf.keras.layers.MaxPooling2D((2,2)))"
      ],
      "metadata": {
        "id": "abSl5k4v6PEK"
      },
      "execution_count": 146,
      "outputs": []
    },
    {
      "cell_type": "code",
      "source": [
        "# Add more convolution and max pooling layers\n",
        "model.add(tf.keras.layers.Conv2D(64, kernel_size=(3,3),\n",
        "                                 strides=(1,1),\n",
        "                                 padding='same',\n",
        "                                 activation='relu',\n",
        "                                 input_shape=(32,32,1)))\n",
        "model.add(tf.keras.layers.MaxPooling2D((2,2)))\n",
        "model.add(tf.keras.layers.Conv2D(64, kernel_size=(3,3),\n",
        "                                 strides=(1,1),\n",
        "                                 padding='same',\n",
        "                                 activation='relu',\n",
        "                                 input_shape=(32,32,1)))"
      ],
      "metadata": {
        "id": "zXUjejbx6S4m"
      },
      "execution_count": 147,
      "outputs": []
    },
    {
      "cell_type": "code",
      "source": [
        "# Flatten the convolution layer\n",
        "model.add(tf.keras.layers.Flatten())"
      ],
      "metadata": {
        "id": "u5N-bfrc6Y3j"
      },
      "execution_count": 148,
      "outputs": []
    },
    {
      "cell_type": "code",
      "source": [
        "#### The numbers in this stage are selected arbitrarily, for that reason you may tweak them to improve model performance.\n",
        "# Add the dense layer and dropout layer\n",
        "model.add(tf.keras.layers.Dense(64, activation='relu'))\n",
        "model.add(tf.keras.layers.Dropout(0.5))\n",
        "\n",
        "# Add the dense layer and dropout layer\n",
        "model.add(tf.keras.layers.Dense(64, activation='relu'))\n",
        "model.add(tf.keras.layers.Dropout(0.5))"
      ],
      "metadata": {
        "id": "cWMK4PHB6bHw"
      },
      "execution_count": 149,
      "outputs": []
    },
    {
      "cell_type": "code",
      "source": [
        "# Add the output layer\n",
        "model.add(tf.keras.layers.Dense(10, activation='softmax'))"
      ],
      "metadata": {
        "id": "6qdI8jzs6efr"
      },
      "execution_count": 150,
      "outputs": []
    },
    {
      "cell_type": "code",
      "source": [
        "# Compile the model\n",
        "model.compile(optimizer='adam',\n",
        "              loss='sparse_categorical_crossentropy',\n",
        "              metrics=['accuracy'])"
      ],
      "metadata": {
        "id": "Y0zX2zsZ6hXr"
      },
      "execution_count": 151,
      "outputs": []
    },
    {
      "cell_type": "code",
      "source": [
        "# Train the model for 50 epochs with batch size of 128\n",
        "#### Batch size is a hyperparameter which used in large datasets to speed up computation time. \n",
        "#### It is recommended to choose powers of 2.\n",
        "#### This stage might be done with multiple computers using differnt hyperparameters to see how variant values\n",
        "#### effects model performance.\n",
        "results = model.fit(X_train, y_train,\n",
        "                    batch_size=128,\n",
        "                    epochs=50,\n",
        "                    validation_data=(X_val, y_val))"
      ],
      "metadata": {
        "colab": {
          "base_uri": "https://localhost:8080/"
        },
        "id": "TUUuxMdT6kI1",
        "outputId": "02029562-bc5a-4af2-e422-4e4d10d9c9d0"
      },
      "execution_count": 152,
      "outputs": [
        {
          "output_type": "stream",
          "name": "stdout",
          "text": [
            "Epoch 1/50\n",
            "55/55 [==============================] - 13s 229ms/step - loss: 2.1119 - accuracy: 0.2086 - val_loss: 1.7936 - val_accuracy: 0.4353\n",
            "Epoch 2/50\n",
            "55/55 [==============================] - 12s 226ms/step - loss: 1.7973 - accuracy: 0.3533 - val_loss: 1.4750 - val_accuracy: 0.5120\n",
            "Epoch 3/50\n",
            "55/55 [==============================] - 14s 249ms/step - loss: 1.5793 - accuracy: 0.4355 - val_loss: 1.2687 - val_accuracy: 0.5979\n",
            "Epoch 4/50\n",
            "55/55 [==============================] - 13s 228ms/step - loss: 1.4202 - accuracy: 0.5048 - val_loss: 1.2037 - val_accuracy: 0.6208\n",
            "Epoch 5/50\n",
            "55/55 [==============================] - 13s 228ms/step - loss: 1.2986 - accuracy: 0.5569 - val_loss: 1.0453 - val_accuracy: 0.6838\n",
            "Epoch 6/50\n",
            "55/55 [==============================] - 12s 227ms/step - loss: 1.1885 - accuracy: 0.5946 - val_loss: 0.9368 - val_accuracy: 0.7045\n",
            "Epoch 7/50\n",
            "55/55 [==============================] - 13s 227ms/step - loss: 1.1222 - accuracy: 0.6233 - val_loss: 0.8792 - val_accuracy: 0.7194\n",
            "Epoch 8/50\n",
            "55/55 [==============================] - 13s 228ms/step - loss: 1.0184 - accuracy: 0.6604 - val_loss: 0.8356 - val_accuracy: 0.7205\n",
            "Epoch 9/50\n",
            "55/55 [==============================] - 12s 227ms/step - loss: 0.9631 - accuracy: 0.6849 - val_loss: 0.8406 - val_accuracy: 0.7251\n",
            "Epoch 10/50\n",
            "55/55 [==============================] - 13s 227ms/step - loss: 0.9206 - accuracy: 0.7009 - val_loss: 0.7109 - val_accuracy: 0.7835\n",
            "Epoch 11/50\n",
            "55/55 [==============================] - 12s 226ms/step - loss: 0.8586 - accuracy: 0.7188 - val_loss: 0.7445 - val_accuracy: 0.7743\n",
            "Epoch 12/50\n",
            "55/55 [==============================] - 13s 229ms/step - loss: 0.8023 - accuracy: 0.7465 - val_loss: 0.6881 - val_accuracy: 0.7812\n",
            "Epoch 13/50\n",
            "55/55 [==============================] - 13s 228ms/step - loss: 0.7741 - accuracy: 0.7515 - val_loss: 0.6466 - val_accuracy: 0.8030\n",
            "Epoch 14/50\n",
            "55/55 [==============================] - 14s 252ms/step - loss: 0.7169 - accuracy: 0.7645 - val_loss: 0.6018 - val_accuracy: 0.8041\n",
            "Epoch 15/50\n",
            "55/55 [==============================] - 13s 230ms/step - loss: 0.6784 - accuracy: 0.7841 - val_loss: 0.5746 - val_accuracy: 0.8247\n",
            "Epoch 16/50\n",
            "55/55 [==============================] - 13s 228ms/step - loss: 0.6557 - accuracy: 0.7887 - val_loss: 0.5602 - val_accuracy: 0.8247\n",
            "Epoch 17/50\n",
            "55/55 [==============================] - 13s 228ms/step - loss: 0.6305 - accuracy: 0.8007 - val_loss: 0.5590 - val_accuracy: 0.8202\n",
            "Epoch 18/50\n",
            "55/55 [==============================] - 13s 228ms/step - loss: 0.6054 - accuracy: 0.8047 - val_loss: 0.6017 - val_accuracy: 0.8018\n",
            "Epoch 19/50\n",
            "55/55 [==============================] - 13s 229ms/step - loss: 0.5870 - accuracy: 0.8142 - val_loss: 0.6042 - val_accuracy: 0.8110\n",
            "Epoch 20/50\n",
            "55/55 [==============================] - 13s 232ms/step - loss: 0.5501 - accuracy: 0.8182 - val_loss: 0.5271 - val_accuracy: 0.8385\n",
            "Epoch 21/50\n",
            "55/55 [==============================] - 12s 227ms/step - loss: 0.5317 - accuracy: 0.8285 - val_loss: 0.5532 - val_accuracy: 0.8305\n",
            "Epoch 22/50\n",
            "55/55 [==============================] - 13s 228ms/step - loss: 0.5218 - accuracy: 0.8365 - val_loss: 0.5281 - val_accuracy: 0.8408\n",
            "Epoch 23/50\n",
            "55/55 [==============================] - 13s 228ms/step - loss: 0.4924 - accuracy: 0.8431 - val_loss: 0.5390 - val_accuracy: 0.8202\n",
            "Epoch 24/50\n",
            "55/55 [==============================] - 13s 228ms/step - loss: 0.4749 - accuracy: 0.8507 - val_loss: 0.5736 - val_accuracy: 0.8328\n",
            "Epoch 25/50\n",
            "55/55 [==============================] - 12s 226ms/step - loss: 0.4563 - accuracy: 0.8508 - val_loss: 0.5325 - val_accuracy: 0.8454\n",
            "Epoch 26/50\n",
            "55/55 [==============================] - 12s 227ms/step - loss: 0.4393 - accuracy: 0.8563 - val_loss: 0.5297 - val_accuracy: 0.8442\n",
            "Epoch 27/50\n",
            "55/55 [==============================] - 14s 251ms/step - loss: 0.4218 - accuracy: 0.8670 - val_loss: 0.5482 - val_accuracy: 0.8431\n",
            "Epoch 28/50\n",
            "55/55 [==============================] - 12s 227ms/step - loss: 0.3929 - accuracy: 0.8683 - val_loss: 0.5052 - val_accuracy: 0.8568\n",
            "Epoch 29/50\n",
            "55/55 [==============================] - 12s 227ms/step - loss: 0.3872 - accuracy: 0.8750 - val_loss: 0.5533 - val_accuracy: 0.8442\n",
            "Epoch 30/50\n",
            "55/55 [==============================] - 12s 225ms/step - loss: 0.4101 - accuracy: 0.8686 - val_loss: 0.5027 - val_accuracy: 0.8534\n",
            "Epoch 31/50\n",
            "55/55 [==============================] - 12s 227ms/step - loss: 0.3658 - accuracy: 0.8799 - val_loss: 0.5233 - val_accuracy: 0.8614\n",
            "Epoch 32/50\n",
            "55/55 [==============================] - 12s 226ms/step - loss: 0.3545 - accuracy: 0.8882 - val_loss: 0.5378 - val_accuracy: 0.8442\n",
            "Epoch 33/50\n",
            "55/55 [==============================] - 12s 226ms/step - loss: 0.3445 - accuracy: 0.8849 - val_loss: 0.5131 - val_accuracy: 0.8522\n",
            "Epoch 34/50\n",
            "55/55 [==============================] - 12s 227ms/step - loss: 0.3328 - accuracy: 0.8876 - val_loss: 0.4963 - val_accuracy: 0.8683\n",
            "Epoch 35/50\n",
            "55/55 [==============================] - 12s 226ms/step - loss: 0.3042 - accuracy: 0.8966 - val_loss: 0.4931 - val_accuracy: 0.8648\n",
            "Epoch 36/50\n",
            "55/55 [==============================] - 12s 227ms/step - loss: 0.3167 - accuracy: 0.8915 - val_loss: 0.5447 - val_accuracy: 0.8591\n",
            "Epoch 37/50\n",
            "55/55 [==============================] - 12s 227ms/step - loss: 0.3029 - accuracy: 0.9005 - val_loss: 0.5115 - val_accuracy: 0.8763\n",
            "Epoch 38/50\n",
            "55/55 [==============================] - 12s 226ms/step - loss: 0.3003 - accuracy: 0.9035 - val_loss: 0.5265 - val_accuracy: 0.8591\n",
            "Epoch 39/50\n",
            "55/55 [==============================] - 12s 227ms/step - loss: 0.2964 - accuracy: 0.9022 - val_loss: 0.5484 - val_accuracy: 0.8557\n",
            "Epoch 40/50\n",
            "55/55 [==============================] - 12s 226ms/step - loss: 0.2858 - accuracy: 0.8996 - val_loss: 0.5394 - val_accuracy: 0.8591\n",
            "Epoch 41/50\n",
            "55/55 [==============================] - 14s 250ms/step - loss: 0.2584 - accuracy: 0.9132 - val_loss: 0.6096 - val_accuracy: 0.8385\n",
            "Epoch 42/50\n",
            "55/55 [==============================] - 12s 227ms/step - loss: 0.2749 - accuracy: 0.9022 - val_loss: 0.5939 - val_accuracy: 0.8625\n",
            "Epoch 43/50\n",
            "55/55 [==============================] - 13s 228ms/step - loss: 0.2774 - accuracy: 0.9085 - val_loss: 0.5686 - val_accuracy: 0.8545\n",
            "Epoch 44/50\n",
            "55/55 [==============================] - 12s 227ms/step - loss: 0.2311 - accuracy: 0.9213 - val_loss: 0.5796 - val_accuracy: 0.8614\n",
            "Epoch 45/50\n",
            "55/55 [==============================] - 12s 226ms/step - loss: 0.2335 - accuracy: 0.9200 - val_loss: 0.5668 - val_accuracy: 0.8614\n",
            "Epoch 46/50\n",
            "55/55 [==============================] - 12s 227ms/step - loss: 0.2410 - accuracy: 0.9164 - val_loss: 0.5454 - val_accuracy: 0.8603\n",
            "Epoch 47/50\n",
            "55/55 [==============================] - 12s 227ms/step - loss: 0.2303 - accuracy: 0.9208 - val_loss: 0.6516 - val_accuracy: 0.8591\n",
            "Epoch 48/50\n",
            "55/55 [==============================] - 12s 227ms/step - loss: 0.2309 - accuracy: 0.9207 - val_loss: 0.5938 - val_accuracy: 0.8591\n",
            "Epoch 49/50\n",
            "55/55 [==============================] - 12s 226ms/step - loss: 0.1972 - accuracy: 0.9298 - val_loss: 0.6024 - val_accuracy: 0.8648\n",
            "Epoch 50/50\n",
            "55/55 [==============================] - 12s 227ms/step - loss: 0.1964 - accuracy: 0.9319 - val_loss: 0.6337 - val_accuracy: 0.8511\n"
          ]
        }
      ]
    },
    {
      "cell_type": "code",
      "source": [
        "# Plot the the training loss\n",
        "plt.plot(results.history['loss'], label='loss')\n",
        "\n",
        "# Plot the the validation loss\n",
        "plt.plot(results.history['val_loss'], label='val_loss')\n",
        "\n",
        "# Name the x and y axises\n",
        "plt.xlabel('Epoch')\n",
        "plt.ylabel('Loss')\n",
        "\n",
        "# Put legend table\n",
        "plt.legend()\n",
        "\n",
        "# Show the plot\n",
        "plt.show()"
      ],
      "metadata": {
        "colab": {
          "base_uri": "https://localhost:8080/",
          "height": 279
        },
        "id": "IO_QGgia6owc",
        "outputId": "60d0e41e-8c61-45a3-e3bb-ebfc257e5201"
      },
      "execution_count": 153,
      "outputs": [
        {
          "output_type": "display_data",
          "data": {
            "text/plain": [
              "<Figure size 432x288 with 1 Axes>"
            ],
            "image/png": "[encoded data removed]"
          },
          "metadata": {
            "needs_background": "light"
          }
        }
      ]
    },
    {
      "cell_type": "code",
      "source": [
        "model.evaluate(X_test, y_test)"
      ],
      "metadata": {
        "colab": {
          "base_uri": "https://localhost:8080/"
        },
        "id": "ccT4k6gs6znc",
        "outputId": "33ff5ff1-f11a-4178-e3dd-08d507772caa"
      },
      "execution_count": 154,
      "outputs": [
        {
          "output_type": "stream",
          "name": "stdout",
          "text": [
            "28/28 [==============================] - 1s 17ms/step - loss: 0.6633 - accuracy: 0.8570\n"
          ]
        },
        {
          "output_type": "execute_result",
          "data": {
            "text/plain": [
              "[0.6633307337760925, 0.8569794297218323]"
            ]
          },
          "metadata": {},
          "execution_count": 154
        }
      ]
    },
    {
      "cell_type": "code",
      "source": [
        "test_result = model.test_on_batch(X_test, y_test)\n",
        "print(test_result)"
      ],
      "metadata": {
        "colab": {
          "base_uri": "https://localhost:8080/"
        },
        "id": "n8eRn3u8UakG",
        "outputId": "ec7f7729-f77e-42d4-a6ec-66fa33fb3a2f"
      },
      "execution_count": 155,
      "outputs": [
        {
          "output_type": "stream",
          "name": "stdout",
          "text": [
            "[0.6633307337760925, 0.8569794297218323]\n"
          ]
        }
      ]
    },
    {
      "cell_type": "code",
      "source": [
        "# Make prediction on the reshaped sample\n",
        "#### (1,32,32,3) means that we have 1 image, 32 to 32 by 3 channels\n",
        "prediction_result = model.predict(X_test[789].reshape(1,32,32,1))\n",
        "\n",
        "# Print the prediction result\n",
        "prediction_result"
      ],
      "metadata": {
        "colab": {
          "base_uri": "https://localhost:8080/"
        },
        "id": "fT0C_kMS7GHc",
        "outputId": "0510d356-26ad-436e-eb5d-ffaafbaa2229"
      },
      "execution_count": 156,
      "outputs": [
        {
          "output_type": "execute_result",
          "data": {
            "text/plain": [
              "array([[1.1437932e-10, 2.7143599e-18, 7.5672621e-20, 8.0470166e-20,\n",
              "        3.6893468e-07, 1.5618315e-12, 4.0683511e-19, 9.9999964e-01,\n",
              "        5.7408383e-20, 4.0093739e-19]], dtype=float32)"
            ]
          },
          "metadata": {},
          "execution_count": 156
        }
      ]
    },
    {
      "cell_type": "code",
      "source": [
        "# Find the predicted class\n",
        "predicted_class = prediction_result.argmax()\n",
        "# Find the prediction probability\n",
        "prediction_probability = prediction_result.max()"
      ],
      "metadata": {
        "id": "gw-Nc2217LN6"
      },
      "execution_count": 157,
      "outputs": []
    },
    {
      "cell_type": "code",
      "source": [
        "# Print the results\n",
        "print(f\"Image class {predicted_class}, has {prediction_probability} probability.\")\n",
        "plt.imshow(prediction_result)"
      ],
      "metadata": {
        "colab": {
          "base_uri": "https://localhost:8080/",
          "height": 121
        },
        "id": "vGcFlk_37QWT",
        "outputId": "5d8745f8-acb6-4b69-9a85-e10cb6ccf24e"
      },
      "execution_count": 158,
      "outputs": [
        {
          "output_type": "stream",
          "name": "stdout",
          "text": [
            "Image class 7, has 0.9999996423721313 probability.\n"
          ]
        },
        {
          "output_type": "execute_result",
          "data": {
            "text/plain": [
              "<matplotlib.image.AxesImage at 0x7f0af21ba310>"
            ]
          },
          "metadata": {},
          "execution_count": 158
        },
        {
          "output_type": "display_data",
          "data": {
            "text/plain": [
              "<Figure size 432x288 with 1 Axes>"
            ],
            "image/png": "[encoded data removed]"
          },
          "metadata": {
            "needs_background": "light"
          }
        }
      ]
    }
  ]
}